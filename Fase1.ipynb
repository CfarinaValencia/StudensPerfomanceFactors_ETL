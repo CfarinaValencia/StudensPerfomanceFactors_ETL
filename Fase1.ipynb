{
 "cells": [
  {
   "cell_type": "markdown",
   "metadata": {},
   "source": [
    "# **LIBRERIAS**"
   ]
  },
  {
   "cell_type": "code",
   "execution_count": 16,
   "metadata": {},
   "outputs": [],
   "source": [
    "import yaml\n",
    "import psycopg2\n",
    "from psycopg2 import sql\n",
    "from sqlalchemy import create_engine, text\n",
    "import pandas as pd"
   ]
  },
  {
   "cell_type": "markdown",
   "metadata": {},
   "source": [
    "# **LECTURA PREVIA DE DATOS**"
   ]
  },
  {
   "cell_type": "code",
   "execution_count": 17,
   "metadata": {},
   "outputs": [
    {
     "data": {
      "text/html": [
       "<div>\n",
       "<style scoped>\n",
       "    .dataframe tbody tr th:only-of-type {\n",
       "        vertical-align: middle;\n",
       "    }\n",
       "\n",
       "    .dataframe tbody tr th {\n",
       "        vertical-align: top;\n",
       "    }\n",
       "\n",
       "    .dataframe thead th {\n",
       "        text-align: right;\n",
       "    }\n",
       "</style>\n",
       "<table border=\"1\" class=\"dataframe\">\n",
       "  <thead>\n",
       "    <tr style=\"text-align: right;\">\n",
       "      <th></th>\n",
       "      <th>Student_ID</th>\n",
       "      <th>Age</th>\n",
       "      <th>Gender</th>\n",
       "      <th>Study_Hours_per_Week</th>\n",
       "      <th>Preferred_Learning_Style</th>\n",
       "      <th>Online_Courses_Completed</th>\n",
       "      <th>Participation_in_Discussions</th>\n",
       "      <th>Assignment_Completion_Rate (%)</th>\n",
       "      <th>Exam_Score (%)</th>\n",
       "      <th>Attendance_Rate (%)</th>\n",
       "      <th>Use_of_Educational_Tech</th>\n",
       "      <th>Self_Reported_Stress_Level</th>\n",
       "      <th>Time_Spent_on_Social_Media (hours/week)</th>\n",
       "      <th>Sleep_Hours_per_Night</th>\n",
       "      <th>Final_Grade</th>\n",
       "    </tr>\n",
       "  </thead>\n",
       "  <tbody>\n",
       "    <tr>\n",
       "      <th>0</th>\n",
       "      <td>S00001</td>\n",
       "      <td>18</td>\n",
       "      <td>Female</td>\n",
       "      <td>48</td>\n",
       "      <td>Kinesthetic</td>\n",
       "      <td>14</td>\n",
       "      <td>Yes</td>\n",
       "      <td>100</td>\n",
       "      <td>69</td>\n",
       "      <td>66</td>\n",
       "      <td>Yes</td>\n",
       "      <td>High</td>\n",
       "      <td>9</td>\n",
       "      <td>8</td>\n",
       "      <td>C</td>\n",
       "    </tr>\n",
       "    <tr>\n",
       "      <th>1</th>\n",
       "      <td>S00002</td>\n",
       "      <td>29</td>\n",
       "      <td>Female</td>\n",
       "      <td>30</td>\n",
       "      <td>Reading/Writing</td>\n",
       "      <td>20</td>\n",
       "      <td>No</td>\n",
       "      <td>71</td>\n",
       "      <td>40</td>\n",
       "      <td>57</td>\n",
       "      <td>Yes</td>\n",
       "      <td>Medium</td>\n",
       "      <td>28</td>\n",
       "      <td>8</td>\n",
       "      <td>D</td>\n",
       "    </tr>\n",
       "    <tr>\n",
       "      <th>2</th>\n",
       "      <td>S00003</td>\n",
       "      <td>20</td>\n",
       "      <td>Female</td>\n",
       "      <td>47</td>\n",
       "      <td>Kinesthetic</td>\n",
       "      <td>11</td>\n",
       "      <td>No</td>\n",
       "      <td>60</td>\n",
       "      <td>43</td>\n",
       "      <td>79</td>\n",
       "      <td>Yes</td>\n",
       "      <td>Low</td>\n",
       "      <td>13</td>\n",
       "      <td>7</td>\n",
       "      <td>D</td>\n",
       "    </tr>\n",
       "    <tr>\n",
       "      <th>3</th>\n",
       "      <td>S00004</td>\n",
       "      <td>23</td>\n",
       "      <td>Female</td>\n",
       "      <td>13</td>\n",
       "      <td>Auditory</td>\n",
       "      <td>0</td>\n",
       "      <td>Yes</td>\n",
       "      <td>63</td>\n",
       "      <td>70</td>\n",
       "      <td>60</td>\n",
       "      <td>Yes</td>\n",
       "      <td>Low</td>\n",
       "      <td>24</td>\n",
       "      <td>10</td>\n",
       "      <td>B</td>\n",
       "    </tr>\n",
       "    <tr>\n",
       "      <th>4</th>\n",
       "      <td>S00005</td>\n",
       "      <td>19</td>\n",
       "      <td>Female</td>\n",
       "      <td>24</td>\n",
       "      <td>Auditory</td>\n",
       "      <td>19</td>\n",
       "      <td>Yes</td>\n",
       "      <td>59</td>\n",
       "      <td>63</td>\n",
       "      <td>93</td>\n",
       "      <td>Yes</td>\n",
       "      <td>Medium</td>\n",
       "      <td>26</td>\n",
       "      <td>8</td>\n",
       "      <td>C</td>\n",
       "    </tr>\n",
       "  </tbody>\n",
       "</table>\n",
       "</div>"
      ],
      "text/plain": [
       "  Student_ID  Age  Gender  Study_Hours_per_Week Preferred_Learning_Style  \\\n",
       "0     S00001   18  Female                    48              Kinesthetic   \n",
       "1     S00002   29  Female                    30          Reading/Writing   \n",
       "2     S00003   20  Female                    47              Kinesthetic   \n",
       "3     S00004   23  Female                    13                 Auditory   \n",
       "4     S00005   19  Female                    24                 Auditory   \n",
       "\n",
       "   Online_Courses_Completed Participation_in_Discussions  \\\n",
       "0                        14                          Yes   \n",
       "1                        20                           No   \n",
       "2                        11                           No   \n",
       "3                         0                          Yes   \n",
       "4                        19                          Yes   \n",
       "\n",
       "   Assignment_Completion_Rate (%)  Exam_Score (%)  Attendance_Rate (%)  \\\n",
       "0                             100              69                   66   \n",
       "1                              71              40                   57   \n",
       "2                              60              43                   79   \n",
       "3                              63              70                   60   \n",
       "4                              59              63                   93   \n",
       "\n",
       "  Use_of_Educational_Tech Self_Reported_Stress_Level  \\\n",
       "0                     Yes                       High   \n",
       "1                     Yes                     Medium   \n",
       "2                     Yes                        Low   \n",
       "3                     Yes                        Low   \n",
       "4                     Yes                     Medium   \n",
       "\n",
       "   Time_Spent_on_Social_Media (hours/week)  Sleep_Hours_per_Night Final_Grade  \n",
       "0                                        9                      8           C  \n",
       "1                                       28                      8           D  \n",
       "2                                       13                      7           D  \n",
       "3                                       24                     10           B  \n",
       "4                                       26                      8           C  "
      ]
     },
     "execution_count": 17,
     "metadata": {},
     "output_type": "execute_result"
    }
   ],
   "source": [
    "df_studentsPf = pd.read_csv(\"student_performance_large_dataset.csv\", sep=\",\")\n",
    "df_studentsPf.head()"
   ]
  },
  {
   "cell_type": "markdown",
   "metadata": {},
   "source": [
    "### **TIPOS DE DATOS**"
   ]
  },
  {
   "cell_type": "code",
   "execution_count": 18,
   "metadata": {},
   "outputs": [
    {
     "name": "stdout",
     "output_type": "stream",
     "text": [
      "Student_ID                                 object\n",
      "Age                                         int64\n",
      "Gender                                     object\n",
      "Study_Hours_per_Week                        int64\n",
      "Preferred_Learning_Style                   object\n",
      "Online_Courses_Completed                    int64\n",
      "Participation_in_Discussions               object\n",
      "Assignment_Completion_Rate (%)              int64\n",
      "Exam_Score (%)                              int64\n",
      "Attendance_Rate (%)                         int64\n",
      "Use_of_Educational_Tech                    object\n",
      "Self_Reported_Stress_Level                 object\n",
      "Time_Spent_on_Social_Media (hours/week)     int64\n",
      "Sleep_Hours_per_Night                       int64\n",
      "Final_Grade                                object\n",
      "dtype: object\n"
     ]
    }
   ],
   "source": [
    "print(df_studentsPf.dtypes)\n"
   ]
  },
  {
   "cell_type": "markdown",
   "metadata": {},
   "source": [
    "# **CONFIGURACIÓN BD**"
   ]
  },
  {
   "cell_type": "markdown",
   "metadata": {},
   "source": [
    "### Lectura archivo config.yaml"
   ]
  },
  {
   "cell_type": "code",
   "execution_count": 19,
   "metadata": {},
   "outputs": [],
   "source": [
    "def load_config(file_path=\"config.yaml\"):\n",
    "    with open(file_path, \"r\") as file:\n",
    "        return yaml.safe_load(file)"
   ]
  },
  {
   "cell_type": "code",
   "execution_count": 20,
   "metadata": {},
   "outputs": [],
   "source": [
    "config = load_config()\n",
    "db_config = config[\"database\"]\n",
    "\n",
    "# Load credentials\n",
    "db_user = db_config[\"user\"]\n",
    "db_password = db_config[\"password\"]\n",
    "db_host = db_config[\"host\"]\n",
    "db_port = db_config[\"port\"]\n",
    "db_name = db_config[\"name\"]\n",
    "\n",
    "# DB connection\n",
    "conn = psycopg2.connect(\n",
    "    dbname=\"postgres\",\n",
    "    user=db_user,\n",
    "    password=db_password,\n",
    "    host=db_host,\n",
    "    port=db_port\n",
    ")\n",
    "conn.autocommit = True"
   ]
  },
  {
   "cell_type": "markdown",
   "metadata": {},
   "source": [
    "### Creación de BD"
   ]
  },
  {
   "cell_type": "code",
   "execution_count": 21,
   "metadata": {},
   "outputs": [
    {
     "name": "stdout",
     "output_type": "stream",
     "text": [
      "Base de datos 'studentsPfL' creada exitosamente.\n"
     ]
    }
   ],
   "source": [
    "db_name = \"studentsPfL\"\n",
    "try:\n",
    "    with conn.cursor() as cur:\n",
    "        cur.execute(sql.SQL(\"CREATE DATABASE {}\").format(sql.Identifier(db_name)))\n",
    "        print(f\"Base de datos '{db_name}' creada exitosamente.\")\n",
    "except psycopg2.errors.DuplicateDatabase:\n",
    "    print(f\"La base de datos '{db_name}' ya existe.\")\n",
    "finally:\n",
    "    conn.close()"
   ]
  },
  {
   "cell_type": "markdown",
   "metadata": {},
   "source": [
    "### INSERTAR DATOS CRUDOS A LA BD"
   ]
  },
  {
   "cell_type": "code",
   "execution_count": 23,
   "metadata": {},
   "outputs": [
    {
     "name": "stdout",
     "output_type": "stream",
     "text": [
      "✅ Datos insertados en la tabla 'df_studentsPfL' correctamente.\n",
      "✅ Se incorporaron '10000' registros.\n"
     ]
    }
   ],
   "source": [
    "\n",
    "# Configurar la conexión con PostgreSQL\n",
    "engine = create_engine(f\"postgresql://{db_user}:{db_password}@{db_host}:{db_port}/{db_name}\")\n",
    "\n",
    "# Insertar el DataFrame en la tabla 'StudentsPF'\n",
    "df_studentsPf.to_sql(\"StudentsPFL\", con=engine, if_exists=\"append\", index=False)\n",
    "print(\"✅ Datos insertados en la tabla 'df_studentsPfL' correctamente.\")\n",
    "print(f\"✅ Se incorporaron '{df_studentsPf.shape[0]}' registros.\")\n"
   ]
  }
 ],
 "metadata": {
  "kernelspec": {
   "display_name": "venvProyecto",
   "language": "python",
   "name": "python3"
  },
  "language_info": {
   "codemirror_mode": {
    "name": "ipython",
    "version": 3
   },
   "file_extension": ".py",
   "mimetype": "text/x-python",
   "name": "python",
   "nbconvert_exporter": "python",
   "pygments_lexer": "ipython3",
   "version": "3.12.4"
  }
 },
 "nbformat": 4,
 "nbformat_minor": 2
}
